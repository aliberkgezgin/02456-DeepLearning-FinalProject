{
  "cells": [
    {
      "cell_type": "markdown",
      "metadata": {
        "id": "view-in-github"
      },
      "source": [
        "<a href=\"https://colab.research.google.com/github/AugustBirch/02456_RecSys/blob/main/News_Recommendation_Model_FINAL.ipynb\" target=\"_parent\"><img src=\"https://colab.research.google.com/assets/colab-badge.svg\" alt=\"Open In Colab\"/></a>"
      ]
    },
    {
      "cell_type": "markdown",
      "source": [
        "**Here we import all libraries needed**\n",
        "\n"
      ],
      "metadata": {
        "id": "laucAiJGh5tg"
      }
    },
    {
      "cell_type": "code",
      "execution_count": null,
      "metadata": {
        "id": "KGdGdZ1MOv5n"
      },
      "outputs": [],
      "source": [
        "# Import required libraries\n",
        "import tensorflow as tf\n",
        "import pandas as pd\n",
        "import numpy as np\n",
        "import os\n",
        "from tensorflow.keras import layers, Model\n",
        "from tensorflow.keras.layers import LayerNormalization, Dropout\n",
        "from tensorflow.keras.metrics import AUC\n",
        "from tensorflow.keras.callbacks import ReduceLROnPlateau\n",
        "from tensorflow.keras.preprocessing.sequence import pad_sequences\n",
        "from tensorflow.keras.regularizers import l2\n",
        "from sklearn.metrics import roc_auc_score"
      ]
    },
    {
      "cell_type": "markdown",
      "source": [
        "**Here we connect our program to google disc and load input data from it**"
      ],
      "metadata": {
        "id": "6dT-O2fFiJDz"
      }
    },
    {
      "cell_type": "code",
      "source": [
        "SIZE = 'demo'"
      ],
      "metadata": {
        "id": "K7AnwqDuFGwU"
      },
      "execution_count": null,
      "outputs": []
    },
    {
      "cell_type": "code",
      "source": [
        "num_heads = 68                  # Number of attention heads in the attention layer\n",
        "batch_size = 64                 # Number of samples used in each training iteration\n",
        "epochs_num = 10                 # Number of times the model will iterate over the entire training dataset\n",
        "initial_learning_rate=0.0001     # Initial value of learning rate (learning rate is dynamically set by the scheduler)\n",
        "max_history_length = 36         # Maximum length of user history considered by the model\n",
        "max_articles_in_view = 48       # Maximum number of articles in a user's viewing session (if applicable)\n",
        "max_in_session_history = 4      # Maximum number of articles in a user's in-session history\n",
        "popularity_window_hours = 72    # Number of hours to consider for popularity calculation\n",
        "top_N_popular_articles = 2     # Number of top popular articles to consider\n",
        "lambda_diversity = 0.0          # Regularization parameter for diversity loss"
      ],
      "metadata": {
        "id": "TfM-DDZrFnB8"
      },
      "execution_count": 1,
      "outputs": []
    },
    {
      "cell_type": "code",
      "source": [
        "def filter_invalid_clicked_articles(df_behaviors):\n",
        "    \"\"\"\n",
        "    Filter rows in df_behaviors where `article_ids_clicked` contains multiple articles.\n",
        "    \"\"\"\n",
        "    # Ensure column exists\n",
        "    if 'article_ids_clicked' not in df_behaviors.columns:\n",
        "        raise KeyError(\"'article_ids_clicked' column not found in df_behaviors.\")\n",
        "\n",
        "    # Count rows before filtering\n",
        "    total_rows = len(df_behaviors)\n",
        "\n",
        "    # Filter rows where article_ids_clicked contains only one or no article\n",
        "    valid_rows = df_behaviors['article_ids_clicked'].apply(\n",
        "        lambda x: isinstance(x, (list, np.ndarray)) and len(x) <= 1\n",
        "    )\n",
        "    df_filtered = df_behaviors[valid_rows].copy()\n",
        "\n",
        "    # Log the number of rows dropped\n",
        "    dropped_rows = total_rows - len(df_filtered)\n",
        "    print(f\"Filtered out {dropped_rows} rows with invalid `article_ids_clicked` values.\")\n",
        "\n",
        "    return df_filtered"
      ],
      "metadata": {
        "id": "EQXe3L0JE4bu"
      },
      "execution_count": null,
      "outputs": []
    },
    {
      "cell_type": "code",
      "execution_count": null,
      "metadata": {
        "id": "D5TBHs8OPCqM"
      },
      "outputs": [],
      "source": [
        "# LOADING THE DATA\n",
        "\n",
        "# Get the directory of the current script and move one level up\n",
        "BASE_DIR = os.path.join(os.path.dirname(os.path.dirname(os.path.dirname(os.path.abspath(__file__)))),'data')\n",
        "TRAIN_DIR = os.path.join(BASE_DIR, SIZE, 'train')\n",
        "VALID_DIR = os.path.join(BASE_DIR, SIZE, 'validation')\n",
        "ARTICLE_DIR = os.path.join(BASE_DIR, SIZE)\n",
        "\n",
        "TEST_ARTICLES_DIR = os.path.join(BASE_DIR, 'ebnerd_testset')\n",
        "TEST_DIR = os.path.join(BASE_DIR, 'ebnerd_testset', 'test')\n",
        "\n",
        "EMBEDDING_DIR = os.path.join(BASE_DIR, 'artifacts', 'Ekstra_Bladet_word2vec')\n",
        "# /work3/s204129/DL2024/data/artifacts/Ekstra_Bladet_word2vec/document_vector.parquet\n",
        "\n",
        "print(\"Starting loading data...\")\n",
        "\n",
        "# Load the datasets\n",
        "df_train_history = pd.read_parquet(os.path.join(TRAIN_DIR, 'history.parquet'))\n",
        "df_train_behaviors = pd.read_parquet(os.path.join(TRAIN_DIR, 'behaviors.parquet'))\n",
        "df_train_articles = pd.read_parquet(os.path.join(ARTICLE_DIR, 'articles.parquet'))\n",
        "\n",
        "df_valid_history = pd.read_parquet(os.path.join(VALID_DIR, 'history.parquet'))\n",
        "df_valid_behaviors = pd.read_parquet(os.path.join(VALID_DIR, 'behaviors.parquet'))\n",
        "df_valid_articles = pd.read_parquet(os.path.join(ARTICLE_DIR, 'articles.parquet'))\n",
        "\n",
        "df_test_history = pd.read_parquet(os.path.join(TEST_DIR, 'history.parquet'))\n",
        "df_test_behaviors = pd.read_parquet(os.path.join(TEST_DIR, 'behaviors.parquet'))\n",
        "df_test_articles = pd.read_parquet(os.path.join(TEST_ARTICLES_DIR, 'articles.parquet'))\n",
        "\n",
        "# Ensure consistent data types for merging in train dataset\n",
        "df_train_behaviors['article_id'] = df_train_behaviors['article_id'].fillna('-1').astype(str)\n",
        "df_train_articles['article_id'] = df_train_articles['article_id'].astype(str)\n",
        "\n",
        "# Ensure consistent data types for merging in validation dataset\n",
        "df_valid_behaviors['article_id'] = df_valid_behaviors['article_id'].fillna('-1').astype(str)\n",
        "df_valid_articles['article_id'] = df_valid_articles['article_id'].astype(str)\n",
        "\n",
        "# Ensure consistent data types for merging in test dataset\n",
        "df_test_articles['article_id'] = df_test_articles['article_id'].astype(str)\n",
        "\n",
        "# Filter invalid rows from behaviors dataset\n",
        "df_train_behaviors = filter_invalid_clicked_articles(df_train_behaviors)\n",
        "df_valid_behaviors = filter_invalid_clicked_articles(df_valid_behaviors)\n",
        "\n",
        "print(\"Data loaded successfully\")\n"
      ]
    },
    {
      "cell_type": "code",
      "execution_count": 2,
      "metadata": {
        "id": "sHDtILv8PCaI",
        "colab": {
          "base_uri": "https://localhost:8080/",
          "height": 211
        },
        "outputId": "897dbcbb-20a8-426c-c828-69edf00a2fc8"
      },
      "outputs": [
        {
          "output_type": "error",
          "ename": "NameError",
          "evalue": "name 'pd' is not defined",
          "traceback": [
            "\u001b[0;31m---------------------------------------------------------------------------\u001b[0m",
            "\u001b[0;31mNameError\u001b[0m                                 Traceback (most recent call last)",
            "\u001b[0;32m<ipython-input-2-9e902881d572>\u001b[0m in \u001b[0;36m<cell line: 4>\u001b[0;34m()\u001b[0m\n\u001b[1;32m      2\u001b[0m \u001b[0;34m\u001b[0m\u001b[0m\n\u001b[1;32m      3\u001b[0m \u001b[0;31m# Import the embedding file provided by the competition organizers\u001b[0m\u001b[0;34m\u001b[0m\u001b[0;34m\u001b[0m\u001b[0m\n\u001b[0;32m----> 4\u001b[0;31m \u001b[0membedding_df\u001b[0m \u001b[0;34m=\u001b[0m \u001b[0mpd\u001b[0m\u001b[0;34m.\u001b[0m\u001b[0mread_parquet\u001b[0m\u001b[0;34m(\u001b[0m\u001b[0;34m'/content/drive/MyDrive/deep_learning_project/data/embeddings/document_vector.parquet'\u001b[0m\u001b[0;34m)\u001b[0m\u001b[0;34m\u001b[0m\u001b[0;34m\u001b[0m\u001b[0m\n\u001b[0m\u001b[1;32m      5\u001b[0m \u001b[0;34m\u001b[0m\u001b[0m\n\u001b[1;32m      6\u001b[0m \u001b[0;31m# Check the embedding vectors dimension\u001b[0m\u001b[0;34m\u001b[0m\u001b[0;34m\u001b[0m\u001b[0m\n",
            "\u001b[0;31mNameError\u001b[0m: name 'pd' is not defined"
          ]
        }
      ],
      "source": [
        "# EMBEDDINGS OF ARTICLES\n",
        "print(\"Loading embeddings...\")\n",
        "# Import the embedding fle provided by the competition organizers\n",
        "embedding_df = pd.read_parquet(EMBEDDING_DIR)\n",
        "\n",
        "# Check the embedding vectors dimension\n",
        "embedding_dim = len(embedding_df['document_vector'].iloc[0])\n",
        "\n",
        "# Mapping article_id -> embedding index\n",
        "article_to_index = {article_id: idx for idx, article_id in enumerate(embedding_df['article_id'])}\n",
        "\n",
        "# Initialisation of embedding matrix\n",
        "num_articles = len(article_to_index)\n",
        "embedding_matrix = np.zeros((num_articles, embedding_dim))\n",
        "\n",
        "# Populate the embedding matrix\n",
        "for idx, row in embedding_df.iterrows():\n",
        "    embedding_matrix[article_to_index[row['article_id']]] = row['document_vector'][:embedding_dim]\n",
        "print(\"Embeddings loaded successfully\")\n"
      ]
    },
    {
      "cell_type": "markdown",
      "source": [
        "**Here we define functions which are used to pre-process the input data**"
      ],
      "metadata": {
        "id": "pVjrJjlZiVOa"
      }
    },
    {
      "cell_type": "code",
      "source": [
        "# THIS FUNCTION CREATES A LIST OF IDs OF ARTICLES WHICH WERE VIEWED IN EACH SESSION (USED FOR INSESSION ENCODER)\n",
        "\n",
        "def build_in_session_histories(df_behaviors):\n",
        "    # Sort by user_id, session_id, and impression_time\n",
        "    df_behaviors = df_behaviors.sort_values(['user_id', 'session_id', 'impression_time'])\n",
        "\n",
        "    # Initialize a dictionary to store in-session histories\n",
        "    in_session_histories = {}\n",
        "\n",
        "    # Group by session\n",
        "    grouped = df_behaviors.groupby(['user_id', 'session_id'])\n",
        "\n",
        "    # Iterate over each session\n",
        "    for (user_id, session_id), group in grouped:\n",
        "        viewed_articles = []\n",
        "        for idx, row in group.iterrows():\n",
        "\n",
        "            # Store the current viewed articles\n",
        "            in_session_histories[idx] = list(viewed_articles)\n",
        "\n",
        "            # Update the viewed_articles list with the current article\n",
        "            article_id = row['article_id']\n",
        "            if article_id is not None:\n",
        "                viewed_articles.append(article_id)\n",
        "\n",
        "    return in_session_histories"
      ],
      "metadata": {
        "id": "gMneUu8LOQ-M"
      },
      "execution_count": null,
      "outputs": []
    },
    {
      "cell_type": "code",
      "source": [
        "# THIS FUNCTION ADDS THE EMBEDDINGS OF POPULAR ARTICLES TO EACH ROW IN BEHAVIOURS (USED FOR POPULARITY ENCODER)\n",
        "\n",
        "def compute_popularity_features(df_behaviors, popularity_window_hours, top_n=10):\n",
        "    \"\"\"\n",
        "    Adds a 'popularity_articles' column to df_behaviors, which lists the top N articles\n",
        "    popular in the last 'popularity_window_hours' before each impression.\n",
        "    \"\"\"\n",
        "    # Convert 'impression_time' to datetime\n",
        "    df_behaviors['impression_time'] = pd.to_datetime(df_behaviors['impression_time'])\n",
        "\n",
        "    # Create a DataFrame 'df_views' containing each viewed article with the corresponding time\n",
        "    df_views = df_behaviors[['impression_time', 'article_id']].dropna(subset=['article_id'])\n",
        "\n",
        "    # Set 'impression_time' as the index and sort it\n",
        "    df_views.set_index('impression_time', inplace=True)\n",
        "    df_views.sort_index(inplace=True)\n",
        "\n",
        "    # Initialize a cache dictionary to store popularity for each time period\n",
        "    popularity_cache = {}\n",
        "\n",
        "    # Time window in Timedelta\n",
        "    time_window = pd.Timedelta(hours=popularity_window_hours)\n",
        "\n",
        "    # Iterate through unique impression times\n",
        "    impression_times = df_behaviors['impression_time'].unique()\n",
        "\n",
        "    for time in impression_times:\n",
        "        if time in popularity_cache:\n",
        "            continue\n",
        "        # Define the time window\n",
        "        start_time = time - time_window\n",
        "        # Ensure that start_time and time are Timestamps\n",
        "        start_time = pd.to_datetime(start_time)\n",
        "        time = pd.to_datetime(time)\n",
        "        # Filter views in the time window\n",
        "        views_in_window = df_views.loc[start_time:time]\n",
        "        # Count article views\n",
        "        article_counts = views_in_window['article_id'].value_counts()\n",
        "        # Get the top N most popular articles\n",
        "        popular_articles = article_counts.head(top_n).index.tolist()\n",
        "        # Store results in the cache\n",
        "        popularity_cache[time] = popular_articles\n",
        "\n",
        "    # Map popularity to df_behaviors\n",
        "    df_behaviors['popularity_articles'] = df_behaviors['impression_time'].map(popularity_cache)\n",
        "\n",
        "    # Replace NaN with an empty list if there are no popular articles\n",
        "    df_behaviors['popularity_articles'] = df_behaviors['popularity_articles'].apply(lambda x: x if isinstance(x, list) else [])\n",
        "\n",
        "    return df_behaviors"
      ],
      "metadata": {
        "id": "5JVQ1gpuOKlG"
      },
      "execution_count": null,
      "outputs": []
    },
    {
      "cell_type": "code",
      "execution_count": null,
      "metadata": {
        "id": "D92TNSRVM_so"
      },
      "outputs": [],
      "source": [
        "# THIS FUNCTION GATHERS THE ARTICLES WHICH HAVE BEEN READ BY THE USER IN THE PAST (USED FOR USER ENCODER)\n",
        "\n",
        "# Function to transform the history of the user into tensor containing the articles embeddings\n",
        "def process_user_history(df_history, article_to_index, embedding_matrix, max_history_length):\n",
        "\n",
        "    # Initialize a list to store padded embeddings\n",
        "    article_embeddings = []\n",
        "\n",
        "    for article_ids in df_history['article_id_fixed']:\n",
        "        # Collect embeddings for valid article IDs\n",
        "        embeddings = [embedding_matrix[article_to_index[article_id]]\n",
        "                      for article_id in article_ids if article_id in article_to_index]\n",
        "\n",
        "        # Pad or truncate to the fixed history length\n",
        "        if len(embeddings) > max_history_length:\n",
        "            embeddings = embeddings[:max_history_length]\n",
        "        elif len(embeddings) < max_history_length:\n",
        "            embeddings += [np.zeros(embedding_matrix.shape[1])] * (max_history_length - len(embeddings))\n",
        "\n",
        "        article_embeddings.append(embeddings)\n",
        "\n",
        "    # Convert to a NumPy array and ensure correct dtype\n",
        "    padded_array = np.array(article_embeddings, dtype=np.float32)\n",
        "\n",
        "    # Map user to index\n",
        "    user_id_to_index = {user_id: idx for idx, user_id in enumerate(df_history['user_id'].unique())}\n",
        "\n",
        "    return tf.convert_to_tensor(padded_array), user_id_to_index"
      ]
    },
    {
      "cell_type": "code",
      "source": [
        "# THIS FUNCTIONS ARE USED TO GENERATE FINAL VERSION OF BEHAVIOURS WHICH INCLUDES EMBEDDINGS OF POPULAR ARTICLES AND ARTICLES READ IN THIS SESSION\n",
        "\n",
        "# Helper function to pad / truncate the list\n",
        "def pad_or_truncate_list(lst, target_length, padding_value):\n",
        "    lst = list(lst)\n",
        "    if len(lst) > target_length:\n",
        "        return lst[:target_length]\n",
        "    else:\n",
        "        return lst + [padding_value] * (target_length - len(lst))\n",
        "\n",
        "# Function that creates the labeled sessions\n",
        "def generate_session_labels(df_behaviors, article_to_index, embedding_matrix, max_articles_in_view=10, max_in_session_history=5, max_popularity_articles=10):\n",
        "    session_data = []\n",
        "\n",
        "    for _, row in df_behaviors.iterrows():\n",
        "        user_id = row['user_id']\n",
        "        impression_id = row['impression_id']\n",
        "        articles_in_view = np.array(row['article_ids_inview'])\n",
        "        articles_clicked = set(row['article_ids_clicked']) if row['article_ids_clicked'] is not None else set()\n",
        "        in_session_history = row['in_session_history']\n",
        "\n",
        "        # Generate embeddings for in-session history\n",
        "        in_session_embeddings = [\n",
        "            embedding_matrix[article_to_index.get(article_id, 0)]\n",
        "            for article_id in in_session_history\n",
        "        ]\n",
        "\n",
        "        # Pad or truncate to max_in_session_history\n",
        "        in_session_embeddings = pad_or_truncate_list(in_session_embeddings, max_in_session_history, np.zeros(embedding_matrix.shape[1]))\n",
        "\n",
        "        # Popularity articles embeddings\n",
        "        popularity_articles = row['popularity_articles']\n",
        "        popularity_embeddings = [\n",
        "            embedding_matrix[article_to_index.get(article_id, 0)]\n",
        "            for article_id in popularity_articles\n",
        "        ]\n",
        "        popularity_embeddings = pad_or_truncate_list(popularity_embeddings, max_popularity_articles, np.zeros(embedding_matrix.shape[1]))\n",
        "\n",
        "        # Existing code for article embeddings and labels\n",
        "        embeddings = [\n",
        "            embedding_matrix[article_to_index.get(article_id, 0)]\n",
        "            for article_id in articles_in_view\n",
        "        ]\n",
        "        embeddings = pad_or_truncate_list(embeddings, max_articles_in_view, np.zeros(embedding_matrix.shape[1]))\n",
        "\n",
        "        labels = np.isin(articles_in_view, list(articles_clicked)).astype(int)\n",
        "        labels = pad_or_truncate_list(labels, max_articles_in_view, 0)\n",
        "\n",
        "        session_data.append({\n",
        "            'user_id': user_id,\n",
        "            'impression_id': impression_id,\n",
        "            'article_embeddings': embeddings,\n",
        "            'in_session_embeddings': in_session_embeddings,\n",
        "            'popularity_embeddings': popularity_embeddings,\n",
        "            'labels': labels,\n",
        "            # Include other features as needed\n",
        "        })\n",
        "\n",
        "    return pd.DataFrame(session_data)\n",
        "\n",
        "# Function that creates the labeled sessions during the testinf phase\n",
        "def prepare_test_sessions(df_behaviors, article_to_index, embedding_matrix, max_articles_in_view=10, max_in_session_history=5, max_popularity_articles=10):\n",
        "    session_data = []\n",
        "\n",
        "    for _, row in df_behaviors.iterrows():\n",
        "        user_id = row['user_id']\n",
        "        impression_id = row['impression_id']\n",
        "        articles_in_view = np.array(row['article_ids_inview'])\n",
        "\n",
        "        # In-session history embeddings\n",
        "        in_session_history = row.get('in_session_history', [])\n",
        "        in_session_embeddings = [\n",
        "            embedding_matrix[article_to_index.get(article_id, 0)]\n",
        "            for article_id in in_session_history\n",
        "        ]\n",
        "        in_session_embeddings = pad_or_truncate_list(in_session_embeddings, max_in_session_history, np.zeros(embedding_matrix.shape[1]))\n",
        "\n",
        "        # Popularity articles embeddings\n",
        "        popularity_articles = row.get('popularity_articles', [])\n",
        "        popularity_embeddings = [\n",
        "            embedding_matrix[article_to_index.get(article_id, 0)]\n",
        "            for article_id in popularity_articles\n",
        "        ]\n",
        "        popularity_embeddings = pad_or_truncate_list(popularity_embeddings, max_popularity_articles, np.zeros(embedding_matrix.shape[1]))\n",
        "\n",
        "        # Article embeddings\n",
        "        embeddings = [\n",
        "            embedding_matrix[article_to_index.get(article_id, 0)]\n",
        "            for article_id in articles_in_view\n",
        "        ]\n",
        "        embeddings = pad_or_truncate_list(embeddings, max_articles_in_view, np.zeros(embedding_matrix.shape[1]))\n",
        "\n",
        "        session_data.append({\n",
        "            'user_id': user_id,\n",
        "            'impression_id': impression_id,\n",
        "            'article_embeddings': embeddings,\n",
        "            'in_session_embeddings': in_session_embeddings,\n",
        "            'popularity_embeddings': popularity_embeddings,\n",
        "            # No labels since we don't have 'article_ids_clicked'\n",
        "        })\n",
        "\n",
        "    return pd.DataFrame(session_data)"
      ],
      "metadata": {
        "id": "v2gIzPRy5wPU"
      },
      "execution_count": null,
      "outputs": []
    },
    {
      "cell_type": "code",
      "execution_count": null,
      "metadata": {
        "id": "WM763WuUSrYE"
      },
      "outputs": [],
      "source": [
        "# FUNCTIONS USED TO CREATE FINAL DATASET INCLUDING THE EMBEDDINGS OF ARTICLES READ BY THE USER IN HISTORY (USER REPRESENTATION), IN THE CURRENT SESSION (INSESSION REPRESENTATION) AND POPULAR ARTICLES (POPULARITY REPRESENTATION)\n",
        "\n",
        "# Function used during the training/valuation phase\n",
        "def create_tf_dataset(df_labeled_sessions, user_id_to_index, batch_size):\n",
        "    user_indices = df_labeled_sessions['user_id'].map(user_id_to_index).fillna(0).astype(int).to_numpy()\n",
        "    article_embeddings = np.stack(df_labeled_sessions['article_embeddings'].to_numpy())\n",
        "    in_session_embeddings = np.stack(df_labeled_sessions['in_session_embeddings'].to_numpy())\n",
        "    popularity_embeddings = np.stack(df_labeled_sessions['popularity_embeddings'].to_numpy())\n",
        "    labels = np.stack(df_labeled_sessions['labels'].to_numpy())\n",
        "\n",
        "    dataset = tf.data.Dataset.from_tensor_slices(\n",
        "        ((user_indices, article_embeddings, in_session_embeddings, popularity_embeddings), labels)\n",
        "    ).batch(batch_size)\n",
        "\n",
        "    return dataset\n",
        "\n",
        "# The same function but used for testing/predictions\n",
        "def create_tf_dataset_for_prediction(df_sessions, user_id_to_index, batch_size):\n",
        "    user_indices = df_sessions['user_id'].map(user_id_to_index).astype(int).to_numpy()\n",
        "    article_embeddings = np.stack(df_sessions['article_embeddings'].to_numpy())\n",
        "    in_session_embeddings = np.stack(df_sessions['in_session_embeddings'].to_numpy())\n",
        "    popularity_embeddings = np.stack(df_sessions['popularity_embeddings'].to_numpy())\n",
        "\n",
        "    dataset = tf.data.Dataset.from_tensor_slices((\n",
        "        (user_indices, article_embeddings, in_session_embeddings, popularity_embeddings)\n",
        "    ))\n",
        "\n",
        "    return dataset.batch(batch_size)"
      ]
    },
    {
      "cell_type": "markdown",
      "source": [
        "**Here we define the model class and its sub-classes**"
      ],
      "metadata": {
        "id": "V9MjwTfHihiH"
      }
    },
    {
      "cell_type": "code",
      "execution_count": null,
      "metadata": {
        "id": "Epdmy7FQIjAH"
      },
      "outputs": [],
      "source": [
        "# CLASSES OF ALL SUB-MODELS\n",
        "\n",
        "class UserEncoder(Model):\n",
        "    def __init__(self, embedding_dim, num_heads, dropout_rate=0.2, **kwargs):\n",
        "        super(UserEncoder, self).__init__(**kwargs)\n",
        "\n",
        "        # Self-attention layer\n",
        "        self.multi_head_attention = layers.MultiHeadAttention(num_heads=num_heads, key_dim=embedding_dim)\n",
        "        self.layer_norm1 = layers.LayerNormalization()\n",
        "        self.dropout1 = layers.Dropout(dropout_rate)\n",
        "\n",
        "        # Additive attention layer\n",
        "        self.additive_attention_dense = layers.Dense(embedding_dim, activation='tanh')\n",
        "        self.layer_norm2 = layers.LayerNormalization()\n",
        "        self.dropout2 = layers.Dropout(dropout_rate)\n",
        "\n",
        "        # Extra dense layer\n",
        "        self.attention_score_dense = layers.Dense(1)\n",
        "        self.softmax = layers.Softmax(axis=1)\n",
        "\n",
        "    def call(self, inputs):\n",
        "\n",
        "        # Self-attention layer\n",
        "        attention_output = self.multi_head_attention(inputs, inputs)\n",
        "        attention_output = self.layer_norm1(attention_output)\n",
        "        attention_output = self.dropout1(attention_output)\n",
        "\n",
        "        # Additive attention layer\n",
        "        additive_attention_output = self.additive_attention_dense(attention_output)\n",
        "        additive_attention_output = self.layer_norm2(additive_attention_output)\n",
        "        additive_attention_output = self.dropout2(additive_attention_output)\n",
        "\n",
        "        # Dense layer\n",
        "        attention_scores = self.attention_score_dense(additive_attention_output)\n",
        "        attention_weights = self.softmax(attention_scores)\n",
        "\n",
        "        weighted_output = tf.reduce_sum(attention_output * attention_weights, axis=1)\n",
        "        return weighted_output\n",
        "\n",
        "class InSessionEncoder(Model):\n",
        "    def __init__(self, embedding_dim, num_heads, **kwargs):\n",
        "        super(InSessionEncoder, self).__init__(**kwargs)\n",
        "        self.multi_head_attention = layers.MultiHeadAttention(num_heads=num_heads, key_dim=embedding_dim)\n",
        "        self.layer_norm = layers.LayerNormalization()\n",
        "        self.dropout = layers.Dropout(0.2)\n",
        "        self.output_layer = layers.Dense(embedding_dim)\n",
        "\n",
        "    def call(self, inputs):\n",
        "        attention_output = self.multi_head_attention(inputs, inputs)\n",
        "        attention_output = self.layer_norm(attention_output)\n",
        "        attention_output = self.dropout(attention_output)\n",
        "        # Aggregate the outputs\n",
        "        in_session_representation = tf.reduce_mean(attention_output, axis=1)\n",
        "        in_session_representation = self.output_layer(in_session_representation)\n",
        "        return in_session_representation\n",
        "\n",
        "class PopularityEncoder(Model):\n",
        "    def __init__(self, embedding_dim, num_heads, **kwargs):\n",
        "        super(PopularityEncoder, self).__init__(**kwargs)\n",
        "        self.multi_head_attention = layers.MultiHeadAttention(num_heads=num_heads, key_dim=embedding_dim)\n",
        "        self.layer_norm = layers.LayerNormalization()\n",
        "        self.dropout = layers.Dropout(0.2)\n",
        "        self.output_layer = layers.Dense(embedding_dim)\n",
        "\n",
        "    def call(self, inputs):\n",
        "        # inputs: tensor with dimensions: (batch_size, max_popularity_articles, embedding_dim)\n",
        "        attention_output = self.multi_head_attention(inputs, inputs)\n",
        "        attention_output = self.layer_norm(attention_output)\n",
        "        attention_output = self.dropout(attention_output)\n",
        "        # Aggregation of outputs\n",
        "        popularity_representation = tf.reduce_mean(attention_output, axis=1)\n",
        "        popularity_representation = self.output_layer(popularity_representation)\n",
        "        return popularity_representation\n",
        "\n",
        "class ClickPredictor(Model):\n",
        "    def __init__(self, input_dim, **kwargs):\n",
        "        super(ClickPredictor, self).__init__(**kwargs)\n",
        "        self.dense1 = layers.Dense(256, activation='relu', kernel_regularizer=tf.keras.regularizers.l2(0.001))\n",
        "        self.dropout1 = layers.Dropout(0.2)\n",
        "        self.dense2 = layers.Dense(128, activation='relu')\n",
        "        self.dropout2 = layers.Dropout(0.2)\n",
        "        self.dense3 = layers.Dense(1, activation='sigmoid')\n",
        "\n",
        "    def call(self, inputs):\n",
        "        x = self.dense1(inputs)\n",
        "        x = self.dropout1(x)\n",
        "        x = self.dense2(x)\n",
        "        x = self.dropout2(x)\n",
        "        click_probability = self.dense3(x)\n",
        "        return click_probability"
      ]
    },
    {
      "cell_type": "code",
      "execution_count": null,
      "metadata": {
        "id": "7XcPxsoUOeAW"
      },
      "outputs": [],
      "source": [
        "# NEWS RECOMMENDATION MODEL - CLASS USED TO DEFINE THE MAIN MODEL (BACKBONE OF THE ENTIRE MODEL) IN WHICH WE RUN ALL ABOVE SUB-MODELS AND ADD SOME EXTRA LAYERS/FUNCTIONALITIES\n",
        "\n",
        "class NewsRecommendationModel(Model):\n",
        "    def __init__(self, user_histories_tensor, embedding_dim, num_heads, **kwargs):\n",
        "        super(NewsRecommendationModel, self).__init__(**kwargs)\n",
        "        self.user_histories_tensor = user_histories_tensor\n",
        "\n",
        "        # Sub-models\n",
        "        self.user_encoder = UserEncoder(embedding_dim=embedding_dim, num_heads=num_heads)\n",
        "        self.in_session_encoder = InSessionEncoder(embedding_dim=embedding_dim, num_heads=num_heads)\n",
        "        self.popularity_encoder = PopularityEncoder(embedding_dim=embedding_dim, num_heads=num_heads)\n",
        "        self.click_predictor = ClickPredictor(input_dim=embedding_dim)\n",
        "\n",
        "        # Self-attention layer\n",
        "        self.self_attention = layers.MultiHeadAttention(num_heads=num_heads, key_dim=embedding_dim)\n",
        "        self.layer_norm = LayerNormalization()\n",
        "        self.dropout = Dropout(0.2)\n",
        "\n",
        "        # Dense layer for combined representation projection\n",
        "        self.combined_representation_projection = layers.Dense(embedding_dim, activation='relu')\n",
        "\n",
        "    def call(self, inputs):\n",
        "        user_indices, article_embeddings, in_session_embeddings, popularity_embeddings = inputs\n",
        "\n",
        "        # User representation\n",
        "        user_histories = tf.gather(self.user_histories_tensor, user_indices)\n",
        "        user_representation = self.user_encoder(user_histories)\n",
        "\n",
        "        # In-session representation\n",
        "        in_session_representation = self.in_session_encoder(in_session_embeddings)\n",
        "\n",
        "        # Popularity representation\n",
        "        popularity_representation = self.popularity_encoder(popularity_embeddings)\n",
        "\n",
        "        # Combining user representations\n",
        "        combined_representation = tf.concat([user_representation, in_session_representation, popularity_representation], axis=-1)  # Shape: (batch_size, combined_dim)\n",
        "\n",
        "        # Projection to embedding_dim\n",
        "        combined_representation = self.combined_representation_projection(combined_representation)  # Shape: (batch_size, embedding_dim)\n",
        "\n",
        "        # Preparing data for attention\n",
        "        batch_size = tf.shape(article_embeddings)[0]\n",
        "        num_articles = tf.shape(article_embeddings)[1]\n",
        "\n",
        "        # Expanding dimensions and concatenation\n",
        "        user_representation_expanded = tf.expand_dims(combined_representation, axis=1)  # Shape: (batch_size, 1, embedding_dim)\n",
        "        sequence = tf.concat([user_representation_expanded, article_embeddings], axis=1)  # Shape: (batch_size, num_articles + 1, embedding_dim)\n",
        "\n",
        "        # Applying self-attention\n",
        "        attention_output = self.self_attention(sequence, sequence)\n",
        "        attention_output = self.dropout(attention_output)\n",
        "        attention_output = self.layer_norm(sequence + attention_output)\n",
        "\n",
        "        # Extracting article representations after attention (skipping the first element, which is the user representation)\n",
        "        article_attention_output = attention_output[:, 1:, :]  # Shape: (batch_size, num_articles, embedding_dim)\n",
        "\n",
        "        # Flattening and click prediction for each article\n",
        "        article_flat = tf.reshape(article_attention_output, [-1, embedding_dim])  # Shape: (batch_size * num_articles, embedding_dim)\n",
        "        click_probabilities_flat = self.click_predictor(article_flat)  # Shape: (batch_size * num_articles, 1)\n",
        "        click_probabilities = tf.reshape(click_probabilities_flat, [batch_size, num_articles])  # Shape: (batch_size, num_articles)\n",
        "\n",
        "        return click_probabilities"
      ]
    },
    {
      "cell_type": "markdown",
      "source": [
        "**Here we define all the hyperparameters used in the model**"
      ],
      "metadata": {
        "id": "fFrp2S4_qw4f"
      }
    },
    {
      "cell_type": "code",
      "source": [
        "# DEFINE ALL THE HYPERPARAMETERS\n",
        "\n",
        "num_heads = 16                  # Number of attention heads in the attention layer\n",
        "batch_size = 64                 # Number of samples used in each training iteration\n",
        "epochs_num = 16                 # Number of times the model will iterate over the entire training dataset\n",
        "initial_learning_rate=0.001     # Initial value of learning rate (learning rate is dynamically set by the scheduler)\n",
        "max_history_length = 32         # Maximum length of user history considered by the model\n",
        "max_articles_in_view = 10       # Maximum number of articles in a user's viewing session (if applicable)\n",
        "max_in_session_history = 5      # Maximum number of articles in a user's in-session history\n",
        "popularity_window_hours = 48    # Number of hours to consider for popularity calculation\n",
        "top_N_popular_articles = 10     # Number of top popular articles to consider"
      ],
      "metadata": {
        "id": "5nnyPnJzpymA"
      },
      "execution_count": null,
      "outputs": []
    },
    {
      "cell_type": "markdown",
      "source": [
        "**Here we pass the input data through the predefined functions (input data pre-processing)**"
      ],
      "metadata": {
        "id": "gypq3MTyi4qj"
      }
    },
    {
      "source": [
        "# HERE WE CALL ALL THE FUNCTIONS USED TO PREPROCESS THE DATA\n",
        "\n",
        "def prepare_data(df_history, df_behaviors, df_articles, article_to_index, embedding_matrix, max_history_length, popularity_window_hours, top_N_popular_articles, max_articles_in_view, max_in_session_history, is_training=True):\n",
        "\n",
        "    # Compute and add in-session history\n",
        "    in_session_histories = build_in_session_histories(df_behaviors)\n",
        "    df_behaviors['in_session_history'] = df_behaviors.index.map(in_session_histories)\n",
        "\n",
        "    # Compute popularity features\n",
        "    df_behaviors = compute_popularity_features(df_behaviors, popularity_window_hours, top_N_popular_articles)\n",
        "\n",
        "    # Prepare user histories\n",
        "    user_histories_tensor, user_id_to_index = process_user_history(df_history, article_to_index, embedding_matrix, max_history_length)\n",
        "\n",
        "    # Generate session labels\n",
        "    df_labeled_sessions = generate_session_labels(df_behaviors, article_to_index, embedding_matrix, max_articles_in_view, max_in_session_history, top_N_popular_articles)\n",
        "\n",
        "    # Create dataset\n",
        "    dataset = create_tf_dataset(df_labeled_sessions, user_id_to_index, batch_size)\n",
        "\n",
        "    return dataset, user_histories_tensor, user_id_to_index\n",
        "\n",
        "# Prepare datasets\n",
        "train_dataset, train_user_histories_tensor, user_id_to_index = prepare_data(df_train_history, df_train_behaviors, df_train_articles, article_to_index, embedding_matrix, max_history_length, popularity_window_hours, top_N_popular_articles, max_articles_in_view, max_in_session_history, is_training=True)\n",
        "validation_dataset, _, _ = prepare_data(df_valid_history, df_valid_behaviors, df_valid_articles, article_to_index, embedding_matrix, max_history_length, popularity_window_hours, top_N_popular_articles, max_articles_in_view, max_in_session_history, is_training=False)"
      ],
      "cell_type": "code",
      "metadata": {
        "id": "BiaH7t4ptckr"
      },
      "execution_count": null,
      "outputs": []
    },
    {
      "cell_type": "markdown",
      "source": [
        "**Here we train and test the model**"
      ],
      "metadata": {
        "id": "Yy3ifD4ekEHc"
      }
    },
    {
      "cell_type": "code",
      "execution_count": null,
      "metadata": {
        "colab": {
          "base_uri": "https://localhost:8080/"
        },
        "id": "Pag0uwH6PUJc",
        "outputId": "c1889e36-73ed-459f-9096-a23ace5117a0"
      },
      "outputs": [
        {
          "output_type": "stream",
          "name": "stdout",
          "text": [
            "Epoch 1/16\n",
            "\u001b[1m387/387\u001b[0m \u001b[32m━━━━━━━━━━━━━━━━━━━━\u001b[0m\u001b[37m\u001b[0m \u001b[1m62s\u001b[0m 107ms/step - auc: 0.6616 - loss: 0.4763 - val_auc: 0.7279 - val_loss: 0.3020 - learning_rate: 9.9593e-04\n",
            "Epoch 2/16\n",
            "\u001b[1m387/387\u001b[0m \u001b[32m━━━━━━━━━━━━━━━━━━━━\u001b[0m\u001b[37m\u001b[0m \u001b[1m28s\u001b[0m 73ms/step - auc: 0.7405 - loss: 0.2881 - val_auc: 0.7266 - val_loss: 0.2699 - learning_rate: 9.9188e-04\n",
            "Epoch 3/16\n",
            "\u001b[1m387/387\u001b[0m \u001b[32m━━━━━━━━━━━━━━━━━━━━\u001b[0m\u001b[37m\u001b[0m \u001b[1m29s\u001b[0m 74ms/step - auc: 0.7455 - loss: 0.2640 - val_auc: 0.7266 - val_loss: 0.2662 - learning_rate: 9.8784e-04\n",
            "Epoch 4/16\n",
            "\u001b[1m387/387\u001b[0m \u001b[32m━━━━━━━━━━━━━━━━━━━━\u001b[0m\u001b[37m\u001b[0m \u001b[1m28s\u001b[0m 73ms/step - auc: 0.7484 - loss: 0.2589 - val_auc: 0.7238 - val_loss: 0.2679 - learning_rate: 9.8382e-04\n",
            "Epoch 5/16\n",
            "\u001b[1m387/387\u001b[0m \u001b[32m━━━━━━━━━━━━━━━━━━━━\u001b[0m\u001b[37m\u001b[0m \u001b[1m28s\u001b[0m 74ms/step - auc: 0.7511 - loss: 0.2571 - val_auc: 0.7262 - val_loss: 0.2654 - learning_rate: 9.7982e-04\n",
            "Epoch 6/16\n",
            "\u001b[1m387/387\u001b[0m \u001b[32m━━━━━━━━━━━━━━━━━━━━\u001b[0m\u001b[37m\u001b[0m \u001b[1m28s\u001b[0m 74ms/step - auc: 0.7535 - loss: 0.2563 - val_auc: 0.7267 - val_loss: 0.2637 - learning_rate: 9.7583e-04\n",
            "Epoch 7/16\n",
            "\u001b[1m387/387\u001b[0m \u001b[32m━━━━━━━━━━━━━━━━━━━━\u001b[0m\u001b[37m\u001b[0m \u001b[1m28s\u001b[0m 73ms/step - auc: 0.7561 - loss: 0.2555 - val_auc: 0.7253 - val_loss: 0.2645 - learning_rate: 9.7186e-04\n",
            "Epoch 8/16\n",
            "\u001b[1m387/387\u001b[0m \u001b[32m━━━━━━━━━━━━━━━━━━━━\u001b[0m\u001b[37m\u001b[0m \u001b[1m28s\u001b[0m 73ms/step - auc: 0.7584 - loss: 0.2548 - val_auc: 0.7214 - val_loss: 0.2656 - learning_rate: 9.6791e-04\n",
            "Epoch 9/16\n",
            "\u001b[1m387/387\u001b[0m \u001b[32m━━━━━━━━━━━━━━━━━━━━\u001b[0m\u001b[37m\u001b[0m \u001b[1m28s\u001b[0m 73ms/step - auc: 0.7597 - loss: 0.2543 - val_auc: 0.7217 - val_loss: 0.2654 - learning_rate: 9.6397e-04\n",
            "Epoch 10/16\n",
            "\u001b[1m387/387\u001b[0m \u001b[32m━━━━━━━━━━━━━━━━━━━━\u001b[0m\u001b[37m\u001b[0m \u001b[1m28s\u001b[0m 73ms/step - auc: 0.7619 - loss: 0.2536 - val_auc: 0.7235 - val_loss: 0.2644 - learning_rate: 9.6005e-04\n",
            "Epoch 11/16\n",
            "\u001b[1m387/387\u001b[0m \u001b[32m━━━━━━━━━━━━━━━━━━━━\u001b[0m\u001b[37m\u001b[0m \u001b[1m28s\u001b[0m 73ms/step - auc: 0.7638 - loss: 0.2531 - val_auc: 0.7210 - val_loss: 0.2663 - learning_rate: 9.5614e-04\n",
            "Epoch 12/16\n",
            "\u001b[1m387/387\u001b[0m \u001b[32m━━━━━━━━━━━━━━━━━━━━\u001b[0m\u001b[37m\u001b[0m \u001b[1m28s\u001b[0m 74ms/step - auc: 0.7649 - loss: 0.2527 - val_auc: 0.7230 - val_loss: 0.2646 - learning_rate: 9.5225e-04\n",
            "Epoch 13/16\n",
            "\u001b[1m387/387\u001b[0m \u001b[32m━━━━━━━━━━━━━━━━━━━━\u001b[0m\u001b[37m\u001b[0m \u001b[1m28s\u001b[0m 73ms/step - auc: 0.7661 - loss: 0.2525 - val_auc: 0.7226 - val_loss: 0.2654 - learning_rate: 9.4837e-04\n",
            "Epoch 14/16\n",
            "\u001b[1m387/387\u001b[0m \u001b[32m━━━━━━━━━━━━━━━━━━━━\u001b[0m\u001b[37m\u001b[0m \u001b[1m28s\u001b[0m 74ms/step - auc: 0.7679 - loss: 0.2518 - val_auc: 0.7222 - val_loss: 0.2662 - learning_rate: 9.4451e-04\n",
            "Epoch 15/16\n",
            "\u001b[1m387/387\u001b[0m \u001b[32m━━━━━━━━━━━━━━━━━━━━\u001b[0m\u001b[37m\u001b[0m \u001b[1m28s\u001b[0m 73ms/step - auc: 0.7683 - loss: 0.2515 - val_auc: 0.7218 - val_loss: 0.2669 - learning_rate: 9.4067e-04\n",
            "Epoch 16/16\n",
            "\u001b[1m387/387\u001b[0m \u001b[32m━━━━━━━━━━━━━━━━━━━━\u001b[0m\u001b[37m\u001b[0m \u001b[1m28s\u001b[0m 73ms/step - auc: 0.7698 - loss: 0.2511 - val_auc: 0.7227 - val_loss: 0.2700 - learning_rate: 9.3684e-04\n"
          ]
        },
        {
          "output_type": "execute_result",
          "data": {
            "text/plain": [
              "<keras.src.callbacks.history.History at 0x7929ac6f1960>"
            ]
          },
          "metadata": {},
          "execution_count": 36
        }
      ],
      "source": [
        "# HERE WE INITIALIZE THE MODEL AND USE THE PREPROCESSED DATA TO TRAIN IT\n",
        "\n",
        "# Create a model instance\n",
        "model = NewsRecommendationModel(\n",
        "                                user_histories_tensor=train_user_histories_tensor,\n",
        "                                embedding_dim=embedding_dim,\n",
        "                                num_heads=num_heads\n",
        "                              )\n",
        "\n",
        "# Define the loss function\n",
        "loss_fn = tf.keras.losses.BinaryCrossentropy()\n",
        "\n",
        "# Define the scheduler (to dynamically set the optimal learning rate)\n",
        "lr_schedule = tf.keras.optimizers.schedules.ExponentialDecay(\n",
        "    initial_learning_rate=initial_learning_rate,\n",
        "    decay_steps=10000,\n",
        "    decay_rate=0.9)\n",
        "\n",
        "# Create optimizer using above scheduler\n",
        "optimizer = tf.keras.optimizers.Adam(learning_rate=lr_schedule)\n",
        "\n",
        "# Define the callback (reduces the learning rate when the validation loss stops to decrease)\n",
        "reduce_lr = ReduceLROnPlateau(monitor='val_loss', factor=0.2,\n",
        "                              patience=5, min_lr=0.001)\n",
        "\n",
        "# Compile the model\n",
        "model.compile(optimizer=optimizer,  # Use the optimizer instance\n",
        "              loss=loss_fn,\n",
        "              metrics=[tf.keras.metrics.AUC(name=\"auc\")])\n",
        "\n",
        "# Train the model\n",
        "model.fit(\n",
        "    train_dataset,\n",
        "    validation_data=validation_dataset,\n",
        "    epochs=epochs_num,\n",
        "    callbacks=[reduce_lr]\n",
        ")"
      ]
    },
    {
      "cell_type": "code",
      "execution_count": null,
      "metadata": {
        "colab": {
          "base_uri": "https://localhost:8080/"
        },
        "id": "aTJISifFd_K1",
        "outputId": "c2109958-1665-4120-cb6a-255b02951159"
      },
      "outputs": [
        {
          "output_type": "stream",
          "name": "stdout",
          "text": [
            "\u001b[1m397/397\u001b[0m \u001b[32m━━━━━━━━━━━━━━━━━━━━\u001b[0m\u001b[37m\u001b[0m \u001b[1m12s\u001b[0m 25ms/step\n",
            "AUC on validation data: 0.7231\n"
          ]
        }
      ],
      "source": [
        "# HERE WE PASS THE VALIDATION DATA THROUGH THE MODEL TO MAKE PREDICTIONS AND COMPUTE THE VALIDATION AUC\n",
        "\n",
        "# Make predictions\n",
        "predictions = model.predict(validation_dataset)\n",
        "labels = np.concatenate([y for x, y in validation_dataset], axis=0)\n",
        "\n",
        "# Flatten arrays\n",
        "predictions_flat = predictions.flatten()\n",
        "labels_flat = labels.flatten()\n",
        "\n",
        "# Compute AUC\n",
        "auc_score = roc_auc_score(labels_flat, predictions_flat)\n",
        "print(f\"AUC on validation data: {auc_score:.4f}\")\n"
      ]
    },
    {
      "cell_type": "code",
      "source": [
        "# HERE WE PREPROCESS THE TEST DATA (THEY DO NOT INCLUDE THE COLUMN \"article_ids_clicked\" SO WE HAVE TO DO IT SEPARATELY)\n",
        "\n",
        "def prepare_test_data(df_history, df_behaviors, df_articles, article_to_index, embedding_matrix, max_history_length, popularity_window_hours, top_N_popular_articles, max_articles_in_view, max_in_session_history, is_training=False):\n",
        "\n",
        "    # Compute and add in-session history\n",
        "    in_session_histories = build_in_session_histories(df_behaviors)\n",
        "    df_behaviors['in_session_history'] = df_behaviors.index.map(in_session_histories)\n",
        "\n",
        "    # Compute popularity features\n",
        "    df_behaviors = compute_popularity_features(df_behaviors, popularity_window_hours, top_N_popular_articles)\n",
        "\n",
        "    # Prepare user histories\n",
        "    user_histories_tensor, user_id_to_index = process_user_history(df_history, article_to_index, embedding_matrix, max_history_length)\n",
        "\n",
        "    # Prepare test sessions without labels\n",
        "    df_sessions = prepare_test_sessions(df_behaviors, article_to_index, embedding_matrix, max_articles_in_view, max_in_session_history, top_N_popular_articles)\n",
        "\n",
        "    # Create dataset without labels\n",
        "    dataset = create_tf_dataset_for_prediction(df_sessions, user_id_to_index, batch_size=32)\n",
        "\n",
        "    return dataset, user_histories_tensor, user_id_to_index, df_sessions\n",
        "\n",
        "test_dataset, test_user_histories_tensor, user_id_to_index, df_test_sessions = prepare_test_data(df_test_history, df_test_behaviors, df_test_articles, article_to_index, embedding_matrix, max_history_length, popularity_window_hours, top_N_popular_articles, max_articles_in_view, max_in_session_history, is_training=False)"
      ],
      "metadata": {
        "id": "2kWf_C0b59KA"
      },
      "execution_count": null,
      "outputs": []
    },
    {
      "cell_type": "code",
      "source": [
        "# HERE WE MAKE PREDICTIONS USING THE TEST INPUT DATA\n",
        "\n",
        "# Switch the user histories tensor to those from test data (not sure if we need to do that)\n",
        "#model.user_histories_tensor = test_user_histories_tensor\n",
        "\n",
        "# Extract user indices\n",
        "user_indices = df_test_sessions['user_id'].map(user_id_to_index).astype(int).to_numpy()\n",
        "\n",
        "# Extract embeddings\n",
        "article_embeddings = np.stack(df_test_sessions['article_embeddings'].to_numpy())\n",
        "in_session_embeddings = np.stack(df_test_sessions['in_session_embeddings'].to_numpy())\n",
        "popularity_embeddings = np.stack(df_test_sessions['popularity_embeddings'].to_numpy())\n",
        "\n",
        "# Create an inputs list\n",
        "inputs = [user_indices, article_embeddings, in_session_embeddings, popularity_embeddings]\n",
        "\n",
        "# Make test predictions\n",
        "test_predictions = model.predict(inputs)"
      ],
      "metadata": {
        "id": "VkQzCN7e-yg7",
        "outputId": "d6e44553-dbf5-45e9-e251-8312831f19a8",
        "colab": {
          "base_uri": "https://localhost:8080/"
        }
      },
      "execution_count": null,
      "outputs": [
        {
          "output_type": "stream",
          "name": "stdout",
          "text": [
            "\u001b[1m793/793\u001b[0m \u001b[32m━━━━━━━━━━━━━━━━━━━━\u001b[0m\u001b[37m\u001b[0m \u001b[1m13s\u001b[0m 13ms/step\n"
          ]
        }
      ]
    },
    {
      "cell_type": "markdown",
      "source": [
        "# Ethical aspects"
      ],
      "metadata": {
        "id": "9Wzo7PA_La84"
      }
    },
    {
      "cell_type": "code",
      "execution_count": null,
      "metadata": {
        "id": "zwSSEtFsJAzV",
        "outputId": "4729ddf0-2fc3-4a3c-b3a4-6d862726fcb2",
        "colab": {
          "base_uri": "https://localhost:8080/"
        }
      },
      "outputs": [
        {
          "output_type": "stream",
          "name": "stdout",
          "text": [
            "Number of common articles: 2738\n",
            "Number of missing articles: 0\n"
          ]
        }
      ],
      "source": [
        "# Extract the column article_ids_inview from df_test_behaviors\n",
        "candidate_articles = df_valid_behaviors['article_ids_inview'].tolist()\n",
        "\n",
        "# Convert the IDs to strings (only once necessary)\n",
        "candidate_articles = [[str(article) for article in articles] for articles in candidate_articles]\n",
        "\n",
        "# Convert all article_id values to strings in the embedding dataframe (if necessary)\n",
        "embedding_df['article_id'] = embedding_df['article_id'].astype(str)\n",
        "\n",
        "# Flatten the list of lists to create a set of unique candidate article IDs\n",
        "candidate_articles_flat = set(article for sublist in candidate_articles for article in sublist)\n",
        "embedding_articles = set(embedding_df['article_id'])\n",
        "\n",
        "# Common articles\n",
        "common_articles = candidate_articles_flat.intersection(embedding_articles)\n",
        "print(f\"Number of common articles: {len(common_articles)}\")\n",
        "\n",
        "# Missing articles\n",
        "missing_articles = candidate_articles_flat.difference(embedding_articles)\n",
        "print(f\"Number of missing articles: {len(missing_articles)}\")\n"
      ]
    },
    {
      "cell_type": "code",
      "source": [
        "# Extract the Top-N recommendations (e.g., Top-5)\n",
        "top_n = 10\n",
        "recommendations = [np.argsort(-pred)[:top_n] for pred in predictions]\n",
        "\n",
        "# Convert indices from recommendations_test to article IDs\n",
        "article_id_recommendations = [\n",
        "    [candidate_articles[user_idx][idx] for idx in rec_list if idx < len(candidate_articles[user_idx])]\n",
        "    for user_idx, rec_list in enumerate(recommendations)\n",
        "]\n",
        "\n",
        "# Convert article_id from strings to integers\n",
        "article_id_recommendations = [\n",
        "    [int(article) for article in rec_list]\n",
        "    for rec_list in article_id_recommendations\n",
        "]\n",
        "\n",
        "# Filter: Keep only article_id values that have embeddings\n",
        "article_id_recommendations = [\n",
        "    [article for article in rec_list if article in article_to_index]\n",
        "    for rec_list in article_id_recommendations\n",
        "]\n",
        "\n",
        "# Convert article_id values to embedding indices\n",
        "mapped_recommendations = [\n",
        "    [article_to_index[article] for article in rec_list if article in article_to_index]\n",
        "    for rec_list in article_id_recommendations\n",
        "]\n",
        "\n",
        "# Retrieve embeddings for the recommended lists\n",
        "recommended_embeddings = [\n",
        "    [embedding_matrix[idx] for idx in rec_list]\n",
        "    for rec_list in mapped_recommendations\n",
        "]\n"
      ],
      "metadata": {
        "id": "83-RQ1xKcfer"
      },
      "execution_count": null,
      "outputs": []
    },
    {
      "cell_type": "code",
      "execution_count": null,
      "metadata": {
        "colab": {
          "base_uri": "https://localhost:8080/"
        },
        "id": "N1qbvAyuJAzV",
        "outputId": "76d5133b-565d-4569-dd6a-b5cb93aa619b"
      },
      "outputs": [
        {
          "output_type": "stream",
          "name": "stdout",
          "text": [
            "Diversity Score: 0.1857\n"
          ]
        }
      ],
      "source": [
        "from sklearn.metrics.pairwise import cosine_similarity\n",
        "\n",
        "def calculate_diversity_from_embeddings(recommended_embeddings):\n",
        "    \"\"\"\n",
        "    Calculates the average Diversity Score for the recommended embedding lists.\n",
        "\n",
        "    Args:\n",
        "        recommended_embeddings (list of list): Embeddings for the recommendation lists of each user.\n",
        "\n",
        "    Returns:\n",
        "        float: Average Diversity Score for all lists.\n",
        "    \"\"\"\n",
        "    diversities = []\n",
        "    for rec_list in recommended_embeddings:\n",
        "        if len(rec_list) > 1:  # If the list contains at least 2 articles\n",
        "            similarity_matrix = cosine_similarity(rec_list)\n",
        "            # Diversity: 1 - average similarity\n",
        "            pairwise_diversity = 1 - similarity_matrix[np.triu_indices(len(rec_list), k=1)].mean()\n",
        "            diversities.append(pairwise_diversity)\n",
        "        else:\n",
        "            diversities.append(0)  # If there's only 1 article, diversity = 0\n",
        "\n",
        "    # Average diversity score\n",
        "    return diversities\n",
        "diversities = calculate_diversity_from_embeddings(recommended_embeddings)\n",
        "# Call the function with the recommended embeddings\n",
        "diversity_score = np.mean(calculate_diversity_from_embeddings(recommended_embeddings))\n",
        "print(f\"Diversity Score: {diversity_score:.4f}\")\n"
      ]
    },
    {
      "cell_type": "markdown",
      "metadata": {
        "id": "i6DbH1U9JAzV"
      },
      "source": [
        "Diversity measures how different the articles in each user's ecommendation list are from one another.\n",
        "\n",
        "A Diversity Score of 0.1851 indicates that the articles within each recommendation list are not very diverse. This means that the system tends to recommend articles that are similar in content or topic for each user."
      ]
    },
    {
      "cell_type": "code",
      "execution_count": null,
      "metadata": {
        "colab": {
          "base_uri": "https://localhost:8080/",
          "height": 571
        },
        "id": "JbfNyfb8JAzW",
        "outputId": "22d890b6-285a-43e7-b639-f670171833af"
      },
      "outputs": [
        {
          "output_type": "display_data",
          "data": {
            "text/plain": [
              "<Figure size 1000x600 with 1 Axes>"
            ],
            "image/png": "[encoded data removed]"
          },
          "metadata": {}
        }
      ],
      "source": [
        "import matplotlib.pyplot as plt\n",
        "\n",
        "def plot_diversity_boxplot(diversities):\n",
        "    plt.figure(figsize=(10, 6))\n",
        "    plt.boxplot(diversities, vert=False, patch_artist=True, boxprops=dict(facecolor='lightblue', color='blue'),\n",
        "                whiskerprops=dict(color='blue', linewidth=1.5), medianprops=dict(color='red'))\n",
        "    plt.title('Box Plot of Diversity Scores', fontsize=16)\n",
        "    plt.xlabel('Diversity Score', fontsize=14)\n",
        "    plt.show()\n",
        "\n",
        "# Example usage\n",
        "# diversities = [0.1715, 0.432, 0.245, 0.876, 0.543, 0.332]  # Replace with your actual diversity scores\n",
        "plot_diversity_boxplot(diversities)\n"
      ]
    },
    {
      "cell_type": "markdown",
      "source": [
        "## Using Diversity into loss"
      ],
      "metadata": {
        "id": "LJpXXLxpodK6"
      }
    },
    {
      "cell_type": "markdown",
      "source": [
        "This code defines and trains the model to predict binary labels, incorporating a new objective: the diversity of predictions, alongside accuracy. It uses a custom loss function that combines the usual loss for binary classification (BinaryCrossentropy) with an additional loss function for measuring the diversity of the model's outputs. The diversity is calculated based on the predictions (embeddings) generated by the model during each training epoch. Here are the key steps in this process:\n",
        "\n",
        "Diversity Calculation:\n",
        "\n",
        "During training, the model generates predictions (embeddings) for the data.\n",
        "The diversity_loss function calculates the similarity of these predictions through a self dot product, creating a similarity matrix.\n",
        "From this matrix, calculating the average similarity (excluding the diagonal representing the similarity of an item with itself) provides the basis for calculating diversity, which is 1 minus the average similarity.\n",
        "Incorporation into the Loss Function:\n",
        "\n",
        "The final loss function combines the standard classification loss (e.g., BinaryCrossentropy) with diversity. This is achieved by adding the diversity value, scaled by a weighting factor (lambda_diversity), to the base loss.\n",
        "Adding the diversity term treats high similarity values as undesirable, encouraging the model to produce more distinct and diverse predictions.\n",
        "Training:\n",
        "\n",
        "As the model is trained, TensorFlow automatically adjusts the model's weights to minimize this combined loss, balancing the need for high accuracy and high diversity in predictions.\n",
        "Thus, diversity is not just a metric for evaluation but becomes a central part of how the model learns and adapts, seeking a good compromise between accuracy and diversity in its predictions."
      ],
      "metadata": {
        "id": "4Y1tgE-gz0dh"
      }
    },
    {
      "cell_type": "code",
      "source": [
        "import tensorflow as tf\n",
        "from tensorflow.keras.losses import BinaryCrossentropy\n",
        "\n",
        "def diversity_loss(embeddings, lambda_diversity=0.1):\n",
        "    similarity_matrix = tf.matmul(embeddings, embeddings, transpose_b=True)\n",
        "    upper_triangle = tf.linalg.band_part(similarity_matrix, 0, -1)\n",
        "    num_elements = tf.cast(tf.shape(upper_triangle)[0], tf.float32)  # Convert to float32\n",
        "    average_similarity = tf.reduce_mean(upper_triangle) - tf.linalg.trace(upper_triangle) / num_elements\n",
        "    diversity = 1 - average_similarity\n",
        "    return lambda_diversity * diversity\n",
        "\n",
        "\n",
        "class CustomLoss(tf.keras.losses.Loss):\n",
        "    def __init__(self, lambda_diversity=0.1, name=\"custom_loss\"):\n",
        "        super(CustomLoss, self).__init__(name=name)\n",
        "        self.lambda_diversity = lambda_diversity\n",
        "        self.base_loss = BinaryCrossentropy()\n",
        "\n",
        "    def call(self, y_true, y_pred):\n",
        "        # Base loss\n",
        "        base_loss_value = self.base_loss(y_true, y_pred)\n",
        "        # Add diversity loss\n",
        "        diversity_value = diversity_loss(y_pred, self.lambda_diversity)\n",
        "        return base_loss_value + diversity_value\n",
        "\n",
        "# In compile of model, use CustomLoss\n",
        "model.compile(optimizer=optimizer,\n",
        "              loss=CustomLoss(lambda_diversity=0.1),\n",
        "              metrics=[tf.keras.metrics.AUC(name=\"auc\")])\n"
      ],
      "metadata": {
        "id": "vytmNQxfoh9j"
      },
      "execution_count": null,
      "outputs": []
    },
    {
      "cell_type": "code",
      "source": [
        "# Train the model\n",
        "model.fit(\n",
        "    train_dataset,\n",
        "    validation_data=validation_dataset,\n",
        "    epochs=epochs_num,\n",
        "    callbacks=[reduce_lr]\n",
        ")\n"
      ],
      "metadata": {
        "id": "gIaSZE5vospM",
        "outputId": "a2e72c0f-3c2f-4163-a30e-3482a30f44f4",
        "colab": {
          "base_uri": "https://localhost:8080/"
        }
      },
      "execution_count": null,
      "outputs": [
        {
          "output_type": "stream",
          "name": "stdout",
          "text": [
            "Epoch 1/16\n",
            "\u001b[1m387/387\u001b[0m \u001b[32m━━━━━━━━━━━━━━━━━━━━\u001b[0m\u001b[37m\u001b[0m \u001b[1m54s\u001b[0m 109ms/step - auc: 0.7710 - loss: 0.3584 - val_auc: 0.7211 - val_loss: 0.3728 - learning_rate: 9.3303e-04\n",
            "Epoch 2/16\n",
            "\u001b[1m387/387\u001b[0m \u001b[32m━━━━━━━━━━━━━━━━━━━━\u001b[0m\u001b[37m\u001b[0m \u001b[1m29s\u001b[0m 75ms/step - auc: 0.7729 - loss: 0.3578 - val_auc: 0.7220 - val_loss: 0.3740 - learning_rate: 9.2923e-04\n",
            "Epoch 3/16\n",
            "\u001b[1m387/387\u001b[0m \u001b[32m━━━━━━━━━━━━━━━━━━━━\u001b[0m\u001b[37m\u001b[0m \u001b[1m28s\u001b[0m 73ms/step - auc: 0.7744 - loss: 0.3575 - val_auc: 0.7224 - val_loss: 0.3724 - learning_rate: 9.2545e-04\n",
            "Epoch 4/16\n",
            "\u001b[1m387/387\u001b[0m \u001b[32m━━━━━━━━━━━━━━━━━━━━\u001b[0m\u001b[37m\u001b[0m \u001b[1m28s\u001b[0m 73ms/step - auc: 0.7751 - loss: 0.3572 - val_auc: 0.7233 - val_loss: 0.3713 - learning_rate: 9.2169e-04\n",
            "Epoch 5/16\n",
            "\u001b[1m387/387\u001b[0m \u001b[32m━━━━━━━━━━━━━━━━━━━━\u001b[0m\u001b[37m\u001b[0m \u001b[1m29s\u001b[0m 74ms/step - auc: 0.7767 - loss: 0.3568 - val_auc: 0.7195 - val_loss: 0.3735 - learning_rate: 9.1794e-04\n",
            "Epoch 6/16\n",
            "\u001b[1m387/387\u001b[0m \u001b[32m━━━━━━━━━━━━━━━━━━━━\u001b[0m\u001b[37m\u001b[0m \u001b[1m28s\u001b[0m 73ms/step - auc: 0.7767 - loss: 0.3572 - val_auc: 0.7181 - val_loss: 0.3750 - learning_rate: 9.1420e-04\n",
            "Epoch 7/16\n",
            "\u001b[1m387/387\u001b[0m \u001b[32m━━━━━━━━━━━━━━━━━━━━\u001b[0m\u001b[37m\u001b[0m \u001b[1m28s\u001b[0m 73ms/step - auc: 0.7794 - loss: 0.3561 - val_auc: 0.7180 - val_loss: 0.3755 - learning_rate: 9.1048e-04\n",
            "Epoch 8/16\n",
            "\u001b[1m387/387\u001b[0m \u001b[32m━━━━━━━━━━━━━━━━━━━━\u001b[0m\u001b[37m\u001b[0m \u001b[1m28s\u001b[0m 73ms/step - auc: 0.7816 - loss: 0.3556 - val_auc: 0.7180 - val_loss: 0.3759 - learning_rate: 9.0678e-04\n",
            "Epoch 9/16\n",
            "\u001b[1m387/387\u001b[0m \u001b[32m━━━━━━━━━━━━━━━━━━━━\u001b[0m\u001b[37m\u001b[0m \u001b[1m29s\u001b[0m 74ms/step - auc: 0.7810 - loss: 0.3557 - val_auc: 0.7218 - val_loss: 0.3743 - learning_rate: 9.0309e-04\n",
            "Epoch 10/16\n",
            "\u001b[1m387/387\u001b[0m \u001b[32m━━━━━━━━━━━━━━━━━━━━\u001b[0m\u001b[37m\u001b[0m \u001b[1m28s\u001b[0m 74ms/step - auc: 0.7833 - loss: 0.3552 - val_auc: 0.7170 - val_loss: 0.3769 - learning_rate: 8.9941e-04\n",
            "Epoch 11/16\n",
            "\u001b[1m387/387\u001b[0m \u001b[32m━━━━━━━━━━━━━━━━━━━━\u001b[0m\u001b[37m\u001b[0m \u001b[1m28s\u001b[0m 73ms/step - auc: 0.7859 - loss: 0.3544 - val_auc: 0.7178 - val_loss: 0.3769 - learning_rate: 8.9575e-04\n",
            "Epoch 12/16\n",
            "\u001b[1m387/387\u001b[0m \u001b[32m━━━━━━━━━━━━━━━━━━━━\u001b[0m\u001b[37m\u001b[0m \u001b[1m28s\u001b[0m 73ms/step - auc: 0.7875 - loss: 0.3540 - val_auc: 0.7170 - val_loss: 0.3776 - learning_rate: 8.9211e-04\n",
            "Epoch 13/16\n",
            "\u001b[1m387/387\u001b[0m \u001b[32m━━━━━━━━━━━━━━━━━━━━\u001b[0m\u001b[37m\u001b[0m \u001b[1m28s\u001b[0m 74ms/step - auc: 0.7896 - loss: 0.3534 - val_auc: 0.7163 - val_loss: 0.3774 - learning_rate: 8.8848e-04\n",
            "Epoch 14/16\n",
            "\u001b[1m387/387\u001b[0m \u001b[32m━━━━━━━━━━━━━━━━━━━━\u001b[0m\u001b[37m\u001b[0m \u001b[1m28s\u001b[0m 74ms/step - auc: 0.7895 - loss: 0.3535 - val_auc: 0.7161 - val_loss: 0.3782 - learning_rate: 8.8486e-04\n",
            "Epoch 15/16\n",
            "\u001b[1m387/387\u001b[0m \u001b[32m━━━━━━━━━━━━━━━━━━━━\u001b[0m\u001b[37m\u001b[0m \u001b[1m28s\u001b[0m 74ms/step - auc: 0.7950 - loss: 0.3519 - val_auc: 0.7123 - val_loss: 0.3802 - learning_rate: 8.8126e-04\n",
            "Epoch 16/16\n",
            "\u001b[1m387/387\u001b[0m \u001b[32m━━━━━━━━━━━━━━━━━━━━\u001b[0m\u001b[37m\u001b[0m \u001b[1m28s\u001b[0m 74ms/step - auc: 0.7998 - loss: 0.3505 - val_auc: 0.7118 - val_loss: 0.3789 - learning_rate: 8.7768e-04\n"
          ]
        },
        {
          "output_type": "execute_result",
          "data": {
            "text/plain": [
              "<keras.src.callbacks.history.History at 0x792950e047f0>"
            ]
          },
          "metadata": {},
          "execution_count": 44
        }
      ]
    },
    {
      "cell_type": "markdown",
      "source": [
        "## Serendipity"
      ],
      "metadata": {
        "id": "KC-r5DaTolY_"
      }
    },
    {
      "cell_type": "code",
      "source": [
        "predictions = model.predict(validation_dataset)\n",
        "labels = np.concatenate([y for x, y in validation_dataset], axis=0)\n",
        "\n",
        "# Flatten arrays\n",
        "predictions_flat = predictions.flatten()\n",
        "labels_flat = labels.flatten()\n",
        "\n",
        "# Compute AUC\n",
        "auc_score = roc_auc_score(labels_flat, predictions_flat)\n",
        "print(f\"AUC on test data: {auc_score:.4f}\")"
      ],
      "metadata": {
        "id": "EFiOXQdjQq5d",
        "outputId": "b747a356-7325-471e-f73a-f63509f993a2",
        "colab": {
          "base_uri": "https://localhost:8080/"
        }
      },
      "execution_count": null,
      "outputs": [
        {
          "output_type": "stream",
          "name": "stdout",
          "text": [
            "\u001b[1m397/397\u001b[0m \u001b[32m━━━━━━━━━━━━━━━━━━━━\u001b[0m\u001b[37m\u001b[0m \u001b[1m8s\u001b[0m 20ms/step\n",
            "AUC on test data: 0.7121\n"
          ]
        }
      ]
    },
    {
      "cell_type": "code",
      "execution_count": null,
      "metadata": {
        "id": "K6YNJCNrJAzW"
      },
      "outputs": [],
      "source": [
        "from collections import Counter\n",
        "\n",
        "clicked_articles_valid = df_valid_behaviors['article_ids_clicked'].tolist()\n",
        "\n",
        "# Ensure that IDs are strings (to match other data formats)\n",
        "clicked_articles_valid = [[str(article) for article in articles] for articles in clicked_articles_valid]\n",
        "\n",
        "# Count the frequency of articles in the training set\n",
        "article_counts = Counter(df_train_behaviors['article_id'])\n",
        "\n",
        "# Extract the Top-K most popular articles (e.g., Top-10)\n",
        "baseline_articles = [article for article, _ in article_counts.most_common(10)]\n",
        "\n",
        "# Ensure that IDs are strings\n",
        "baseline_articles = [str(article) for article in baseline_articles]\n",
        "\n",
        "# Convert clicked articles to integers\n",
        "clicked_articles_valid = [[int(article) for article in articles] for articles in clicked_articles_valid]\n"
      ]
    },
    {
      "cell_type": "code",
      "source": [
        "def calculate_serendipity(recommendations, clicked_articles, baseline_articles):\n",
        "    \"\"\"\n",
        "    Calculate the Serendipity Score for recommendations.\n",
        "\n",
        "    Args:\n",
        "        recommendations (list of list): Lists of recommended article IDs for each user.\n",
        "        clicked_articles (list of list): Lists of article IDs clicked by each user.\n",
        "        baseline_articles (list): List of popular article IDs used as a baseline.\n",
        "\n",
        "    Returns:\n",
        "        float: Average Serendipity Score across all users.\n",
        "    \"\"\"\n",
        "    serendipities = []\n",
        "    for rec_list, clicked in zip(recommendations, clicked_articles):\n",
        "        # Unexpected recommendations: not in baseline\n",
        "        unexpected = [article for article in rec_list if article not in baseline_articles]\n",
        "\n",
        "        # Relevant unexpected recommendations: clicked by the user\n",
        "        relevant = [article for article in unexpected if article in clicked]\n",
        "\n",
        "        # Serendipity score for the user\n",
        "        serendipity_score = len(relevant) / len(rec_list) if len(rec_list) > 0 else 0\n",
        "        serendipities.append(serendipity_score)\n",
        "\n",
        "    return serendipities\n",
        "\n",
        "serendipities = calculate_serendipity(article_id_recommendations, clicked_articles_valid, baseline_articles)\n",
        "serendipity_score = np.mean(serendipities)\n",
        "print(f\"Serendipity Score: {serendipity_score:.4f}\")"
      ],
      "metadata": {
        "id": "f_K7ghz7cqq-",
        "outputId": "5426e6dc-d9f9-4c52-ac0a-6bb17c9cc012",
        "colab": {
          "base_uri": "https://localhost:8080/"
        }
      },
      "execution_count": null,
      "outputs": [
        {
          "output_type": "stream",
          "name": "stdout",
          "text": [
            "Serendipity Score: 0.1171\n"
          ]
        }
      ]
    },
    {
      "cell_type": "markdown",
      "metadata": {
        "id": "slyPv6SwJAzX"
      },
      "source": [
        "Serendipity measures the extent to which a recommendation system provides unexpected yet relevant recommendations to the user. It goes beyond accuracy by evaluating whether the recommendations surprise the user in a positive way.\n",
        "\n",
        "A Serendipity Score of 0.1173 indicates that the system provides a small percentage of unexpected but relevant recommendations to the users."
      ]
    },
    {
      "cell_type": "code",
      "execution_count": null,
      "metadata": {
        "id": "tDeW1d6_JAzX",
        "outputId": "755dbc28-631d-4c2d-c9f9-b6dcb509e21d",
        "colab": {
          "base_uri": "https://localhost:8080/",
          "height": 571
        }
      },
      "outputs": [
        {
          "output_type": "display_data",
          "data": {
            "text/plain": [
              "<Figure size 1000x600 with 1 Axes>"
            ],
            "image/png": "[encoded data removed]"
          },
          "metadata": {}
        }
      ],
      "source": [
        "def plot_serendipity_histogram(serendipities):\n",
        "    plt.figure(figsize=(10, 6))\n",
        "    plt.hist(serendipities, bins=20, color='green', alpha=0.7, edgecolor='black')\n",
        "    plt.title('Distribution of Serendipity Scores', fontsize=16)\n",
        "    plt.xlabel('Serendipity Score', fontsize=14)\n",
        "    plt.ylabel('Frequency', fontsize=14)\n",
        "    plt.grid(axis='y', linestyle='--', alpha=0.7)\n",
        "    plt.show()\n",
        "\n",
        "# Example usage\n",
        "plot_serendipity_histogram(serendipities)\n"
      ]
    },
    {
      "cell_type": "markdown",
      "source": [
        "## Novelty"
      ],
      "metadata": {
        "id": "XE5f8zMF1LMC"
      }
    },
    {
      "cell_type": "code",
      "source": [
        "# Total number of articles in the training set\n",
        "total_count = sum(article_counts.values())\n",
        "\n",
        "# Create article_popularity dictionary\n",
        "article_popularity = {article: count / total_count for article, count in article_counts.items()}"
      ],
      "metadata": {
        "id": "Dk5t4x06cuaX"
      },
      "execution_count": null,
      "outputs": []
    },
    {
      "cell_type": "code",
      "execution_count": null,
      "metadata": {
        "id": "fhG_J5KGJAzX",
        "outputId": "698ba512-8989-47ff-d50c-7b92f8d126bd",
        "colab": {
          "base_uri": "https://localhost:8080/"
        }
      },
      "outputs": [
        {
          "output_type": "stream",
          "name": "stdout",
          "text": [
            "Novelty Score: 13.4958\n"
          ]
        }
      ],
      "source": [
        "def calculate_novelty(recommendations, article_popularity):\n",
        "    \"\"\"\n",
        "    Calculate the Novelty Score for recommendations.\n",
        "\n",
        "    Args:\n",
        "        recommendations (list of list): Lists of recommended article IDs for each user.\n",
        "        article_popularity (dict): Dictionary mapping article IDs to popularity probabilities.\n",
        "\n",
        "    Returns:\n",
        "        float: Average Novelty Score across all users.\n",
        "    \"\"\"\n",
        "    novelty_scores = []\n",
        "    for rec_list in recommendations:\n",
        "        novelty_sum = 0\n",
        "        for article in rec_list:\n",
        "            # Get the popularity of the article, default to a very small probability\n",
        "            prob = article_popularity.get(article, 1e-6)\n",
        "            novelty_sum += -np.log(prob)\n",
        "\n",
        "        # Average novelty score for the user's recommendation list\n",
        "        novelty_scores.append(novelty_sum / len(rec_list) if len(rec_list) > 0 else 0)\n",
        "\n",
        "    return novelty_scores\n",
        "novelty_scores = calculate_novelty(article_id_recommendations, article_popularity)\n",
        "novelty_score = np.mean(novelty_scores)\n",
        "print(f\"Novelty Score: {novelty_score:.4f}\")"
      ]
    },
    {
      "cell_type": "markdown",
      "metadata": {
        "id": "Q8UHBUDlJAzX"
      },
      "source": [
        "Novelty measures how \"new\" or \"unfamiliar\" the recommended items are to the user, often based on their global popularity:\n",
        "\n",
        "Highly popular items are considered less novel because they are likely to be known by most users.\n",
        "Less popular items are considered more novel because they have a higher likelihood of being new to the user.\n",
        "\n",
        "A Novelty Score of 13.8155 indicates that the recommended articles are highly novel, meaning the system suggests articles that are generally less popular and not commonly seen by users."
      ]
    },
    {
      "cell_type": "code",
      "execution_count": null,
      "metadata": {
        "id": "ufEAmPirJAzX",
        "outputId": "72733143-e809-4110-8492-cf6f7f6ebaf1",
        "colab": {
          "base_uri": "https://localhost:8080/",
          "height": 571
        }
      },
      "outputs": [
        {
          "output_type": "display_data",
          "data": {
            "text/plain": [
              "<Figure size 1000x600 with 1 Axes>"
            ],
            "image/png": "[encoded data removed]"
          },
          "metadata": {}
        }
      ],
      "source": [
        "def plot_novelty_histogram(novelty_scores):\n",
        "    plt.figure(figsize=(10, 6))\n",
        "    plt.hist(novelty_scores, bins=20, color='orange', alpha=0.7, edgecolor='black')\n",
        "    plt.title('Distribution of Novelty Scores', fontsize=16)\n",
        "    plt.xlabel('Novelty Score', fontsize=14)\n",
        "    plt.ylabel('Frequency', fontsize=14)\n",
        "    plt.grid(axis='y', linestyle='--', alpha=0.7)\n",
        "    plt.show()\n",
        "\n",
        "# Example usage\n",
        "plot_novelty_histogram(novelty_scores)"
      ]
    },
    {
      "cell_type": "code",
      "source": [
        "total_articles = embedding_matrix.shape[0]\n"
      ],
      "metadata": {
        "id": "50waIBfTczIi"
      },
      "execution_count": null,
      "outputs": []
    },
    {
      "cell_type": "code",
      "execution_count": null,
      "metadata": {
        "id": "PZXSoPqeJAzX",
        "outputId": "2699d06d-fb68-4c6b-beb6-0aadb14c0611",
        "colab": {
          "base_uri": "https://localhost:8080/"
        }
      },
      "outputs": [
        {
          "output_type": "stream",
          "name": "stdout",
          "text": [
            "Item Coverage Score: 0.1044\n"
          ]
        }
      ],
      "source": [
        "def calculate_item_coverage(recommendations, total_articles):\n",
        "    \"\"\"\n",
        "    Calculate the Item Coverage for recommendations.\n",
        "\n",
        "    Args:\n",
        "        recommendations (list of list): Lists of recommended article IDs for each user.\n",
        "        total_articles (int): Total number of articles available in the catalog.\n",
        "\n",
        "    Returns:\n",
        "        float: Coverage Score as a fraction of total articles covered.\n",
        "    \"\"\"\n",
        "    # Unique articles recommended across all users\n",
        "    recommended_articles = set(article for rec_list in recommendations for article in rec_list)\n",
        "\n",
        "    # Coverage is the fraction of unique articles recommended\n",
        "    return recommended_articles, len(recommended_articles) / total_articles\n",
        "recommended_articles,_ = calculate_item_coverage(article_id_recommendations, total_count)\n",
        "_,coverage_score = calculate_item_coverage(article_id_recommendations, total_count)\n",
        "print(f\"Item Coverage Score: {coverage_score:.4f}\")"
      ]
    },
    {
      "cell_type": "markdown",
      "metadata": {
        "id": "XzCizCSSJAzX"
      },
      "source": [
        "Coverage evaluates how well the recommendation system utilizes the available content:\n",
        "\n",
        "High Coverage: Suggests that the system explores a wide variety of articles.\n",
        "Low Coverage: Indicates that the system focuses only on a limited set of articles, potentially overlooking many others.\n",
        "\n",
        "An Item Coverage Score of 0.0316 means that the recommendation system uses only about 3.16% of the total articles in the catalog across all its recommendations.\n",
        "This indicates a strong bias toward a small subset of articles, likely the most relevant or popular ones."
      ]
    },
    {
      "cell_type": "code",
      "execution_count": null,
      "metadata": {
        "id": "opkPe7AGJAzX",
        "outputId": "19425868-8104-4b80-d4b9-8a03b399ec7e",
        "colab": {
          "base_uri": "https://localhost:8080/",
          "height": 523
        }
      },
      "outputs": [
        {
          "output_type": "display_data",
          "data": {
            "text/plain": [
              "<Figure size 800x600 with 1 Axes>"
            ],
            "image/png": "[encoded data removed]"
          },
          "metadata": {}
        }
      ],
      "source": [
        "def plot_coverage_pie(recommended_articles, total_articles):\n",
        "    coverage_score = len(recommended_articles) / total_articles\n",
        "    plt.figure(figsize=(8, 6))\n",
        "    plt.pie(\n",
        "        [coverage_score, 1 - coverage_score],\n",
        "        labels=[\"Covered\", \"Not Covered\"],\n",
        "        autopct=\"%1.1f%%\",\n",
        "        colors=[\"lightblue\", \"lightgrey\"],\n",
        "        startangle=140\n",
        "    )\n",
        "    plt.title(\"Proportion of Catalog Covered\", fontsize=16)\n",
        "    plt.show()\n",
        "\n",
        "# Example usage\n",
        "plot_coverage_pie(recommended_articles, total_count)"
      ]
    }
  ],
  "metadata": {
    "accelerator": "GPU",
    "colab": {
      "gpuType": "T4",
      "machine_shape": "hm",
      "provenance": []
    },
    "kernelspec": {
      "display_name": "Python 3",
      "name": "python3"
    },
    "language_info": {
      "name": "python"
    }
  },
  "nbformat": 4,
  "nbformat_minor": 0
}